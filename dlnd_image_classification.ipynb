{
 "cells": [
  {
   "cell_type": "markdown",
   "metadata": {
    "collapsed": true,
    "deletable": true,
    "editable": true
   },
   "source": [
    "# Image Classification\n",
    "In this project, you'll classify images from the [CIFAR-10 dataset](https://www.cs.toronto.edu/~kriz/cifar.html).  The dataset consists of airplanes, dogs, cats, and other objects. You'll preprocess the images, then train a convolutional neural network on all the samples. The images need to be normalized and the labels need to be one-hot encoded.  You'll get to apply what you learned and build a convolutional, max pooling, dropout, and fully connected layers.  At the end, you'll get to see your neural network's predictions on the sample images.\n",
    "## Get the Data\n",
    "Run the following cell to download the [CIFAR-10 dataset for python](https://www.cs.toronto.edu/~kriz/cifar-10-python.tar.gz)."
   ]
  },
  {
   "cell_type": "code",
   "execution_count": 1,
   "metadata": {
    "collapsed": false,
    "deletable": true,
    "editable": true
   },
   "outputs": [
    {
     "name": "stdout",
     "output_type": "stream",
     "text": [
      "All files found!\n"
     ]
    }
   ],
   "source": [
    "\"\"\"\n",
    "DON'T MODIFY ANYTHING IN THIS CELL THAT IS BELOW THIS LINE\n",
    "\"\"\"\n",
    "from urllib.request import urlretrieve\n",
    "from os.path import isfile, isdir\n",
    "from tqdm import tqdm\n",
    "import problem_unittests as tests\n",
    "import tarfile\n",
    "\n",
    "cifar10_dataset_folder_path = 'cifar-10-batches-py'\n",
    "\n",
    "class DLProgress(tqdm):\n",
    "    last_block = 0\n",
    "\n",
    "    def hook(self, block_num=1, block_size=1, total_size=None):\n",
    "        self.total = total_size\n",
    "        self.update((block_num - self.last_block) * block_size)\n",
    "        self.last_block = block_num\n",
    "\n",
    "if not isfile('cifar-10-python.tar.gz'):\n",
    "    with DLProgress(unit='B', unit_scale=True, miniters=1, desc='CIFAR-10 Dataset') as pbar:\n",
    "        urlretrieve(\n",
    "            'https://www.cs.toronto.edu/~kriz/cifar-10-python.tar.gz',\n",
    "            'cifar-10-python.tar.gz',\n",
    "            pbar.hook)\n",
    "\n",
    "if not isdir(cifar10_dataset_folder_path):\n",
    "    with tarfile.open('cifar-10-python.tar.gz') as tar:\n",
    "        tar.extractall()\n",
    "        tar.close()\n",
    "\n",
    "\n",
    "tests.test_folder_path(cifar10_dataset_folder_path)"
   ]
  },
  {
   "cell_type": "markdown",
   "metadata": {
    "deletable": true,
    "editable": true
   },
   "source": [
    "## Explore the Data\n",
    "The dataset is broken into batches to prevent your machine from running out of memory.  The CIFAR-10 dataset consists of 5 batches, named `data_batch_1`, `data_batch_2`, etc.. Each batch contains the labels and images that are one of the following:\n",
    "* airplane\n",
    "* automobile\n",
    "* bird\n",
    "* cat\n",
    "* deer\n",
    "* dog\n",
    "* frog\n",
    "* horse\n",
    "* ship\n",
    "* truck\n",
    "\n",
    "Understanding a dataset is part of making predictions on the data.  Play around with the code cell below by changing the `batch_id` and `sample_id`. The `batch_id` is the id for a batch (1-5). The `sample_id` is the id for a image and label pair in the batch.\n",
    "\n",
    "Ask yourself \"What are all possible labels?\", \"What is the range of values for the image data?\", \"Are the labels in order or random?\".  Answers to questions like these will help you preprocess the data and end up with better predictions."
   ]
  },
  {
   "cell_type": "code",
   "execution_count": 2,
   "metadata": {
    "collapsed": false,
    "deletable": true,
    "editable": true
   },
   "outputs": [
    {
     "name": "stdout",
     "output_type": "stream",
     "text": [
      "\n",
      "Stats of batch 1:\n",
      "Samples: 10000\n",
      "Label Counts: {0: 1005, 1: 974, 2: 1032, 3: 1016, 4: 999, 5: 937, 6: 1030, 7: 1001, 8: 1025, 9: 981}\n",
      "First 20 Labels: [6, 9, 9, 4, 1, 1, 2, 7, 8, 3, 4, 7, 7, 2, 9, 9, 9, 3, 2, 6]\n",
      "\n",
      "Example of Image 999:\n",
      "Image - Min Value: 7 Max Value: 224\n",
      "Image - Shape: (32, 32, 3)\n",
      "Label - Label Id: 5 Name: dog\n"
     ]
    },
    {
     "data": {
      "image/png": "[encoded data removed]",
      "text/plain": [
       "<matplotlib.figure.Figure at 0x7f1bcb056898>"
      ]
     },
     "metadata": {
      "image/png": {
       "height": 250,
       "width": 253
      }
     },
     "output_type": "display_data"
    }
   ],
   "source": [
    "%matplotlib inline\n",
    "%config InlineBackend.figure_format = 'retina'\n",
    "\n",
    "import helper\n",
    "import numpy as np\n",
    "\n",
    "# Explore the dataset\n",
    "batch_id = 1\n",
    "sample_id = 999\n",
    "helper.display_stats(cifar10_dataset_folder_path, batch_id, sample_id)"
   ]
  },
  {
   "cell_type": "markdown",
   "metadata": {
    "deletable": true,
    "editable": true
   },
   "source": [
    "## Implement Preprocess Functions\n",
    "### Normalize\n",
    "In the cell below, implement the `normalize` function to take in image data, `x`, and return it as a normalized Numpy array. The values should be in the range of 0 to 1, inclusive.  The return object should be the same shape as `x`."
   ]
  },
  {
   "cell_type": "code",
   "execution_count": 3,
   "metadata": {
    "collapsed": false,
    "deletable": true,
    "editable": true
   },
   "outputs": [
    {
     "name": "stdout",
     "output_type": "stream",
     "text": [
      "Tests Passed\n"
     ]
    }
   ],
   "source": [
    "def normalize(x):\n",
    "    \"\"\"\n",
    "    Normalize a list of sample image data in the range of 0 to 1\n",
    "    : x: List of image data.  The image shape is (32, 32, 3)\n",
    "    : return: Numpy array of normalize data\n",
    "    \"\"\"\n",
    "    f = np.vectorize(lambda y: y * 1.0 / 256)\n",
    "    return f(x)\n",
    "\n",
    "\n",
    "\"\"\"\n",
    "DON'T MODIFY ANYTHING IN THIS CELL THAT IS BELOW THIS LINE\n",
    "\"\"\"\n",
    "tests.test_normalize(normalize)"
   ]
  },
  {
   "cell_type": "markdown",
   "metadata": {
    "deletable": true,
    "editable": true
   },
   "source": [
    "### One-hot encode\n",
    "Just like the previous code cell, you'll be implementing a function for preprocessing.  This time, you'll implement the `one_hot_encode` function. The input, `x`, are a list of labels.  Implement the function to return the list of labels as One-Hot encoded Numpy array.  The possible values for labels are 0 to 9. The one-hot encoding function should return the same encoding for each value between each call to `one_hot_encode`.  Make sure to save the map of encodings outside the function.\n",
    "\n",
    "Hint: Don't reinvent the wheel."
   ]
  },
  {
   "cell_type": "code",
   "execution_count": 4,
   "metadata": {
    "collapsed": false,
    "deletable": true,
    "editable": true
   },
   "outputs": [
    {
     "name": "stdout",
     "output_type": "stream",
     "text": [
      "Tests Passed\n"
     ]
    }
   ],
   "source": [
    "from sklearn import preprocessing\n",
    "lb = preprocessing.LabelBinarizer()\n",
    "lb.fit(list(range(10)))\n",
    "\n",
    "def one_hot_encode(x):\n",
    "    \"\"\"\n",
    "    One hot encode a list of sample labels. Return a one-hot encoded vector for each label.\n",
    "    : x: List of sample Labels\n",
    "    : return: Numpy array of one-hot encoded labels\n",
    "    \"\"\"\n",
    "    return lb.transform(x)\n",
    "\n",
    "\n",
    "\"\"\"\n",
    "DON'T MODIFY ANYTHING IN THIS CELL THAT IS BELOW THIS LINE\n",
    "\"\"\"\n",
    "tests.test_one_hot_encode(one_hot_encode)"
   ]
  },
  {
   "cell_type": "markdown",
   "metadata": {
    "deletable": true,
    "editable": true
   },
   "source": [
    "### Randomize Data\n",
    "As you saw from exploring the data above, the order of the samples are randomized.  It doesn't hurt to randomize it again, but you don't need to for this dataset."
   ]
  },
  {
   "cell_type": "markdown",
   "metadata": {
    "deletable": true,
    "editable": true
   },
   "source": [
    "## Preprocess all the data and save it\n",
    "Running the code cell below will preprocess all the CIFAR-10 data and save it to file. The code below also uses 10% of the training data for validation."
   ]
  },
  {
   "cell_type": "code",
   "execution_count": 5,
   "metadata": {
    "collapsed": false,
    "deletable": true,
    "editable": true
   },
   "outputs": [],
   "source": [
    "\"\"\"\n",
    "DON'T MODIFY ANYTHING IN THIS CELL\n",
    "\"\"\"\n",
    "# Preprocess Training, Validation, and Testing Data\n",
    "helper.preprocess_and_save_data(cifar10_dataset_folder_path, normalize, one_hot_encode)"
   ]
  },
  {
   "cell_type": "markdown",
   "metadata": {
    "deletable": true,
    "editable": true
   },
   "source": [
    "# Check Point\n",
    "This is your first checkpoint.  If you ever decide to come back to this notebook or have to restart the notebook, you can start from here.  The preprocessed data has been saved to disk."
   ]
  },
  {
   "cell_type": "code",
   "execution_count": 6,
   "metadata": {
    "collapsed": true,
    "deletable": true,
    "editable": true
   },
   "outputs": [],
   "source": [
    "\"\"\"\n",
    "DON'T MODIFY ANYTHING IN THIS CELL\n",
    "\"\"\"\n",
    "import pickle\n",
    "import problem_unittests as tests\n",
    "import helper\n",
    "\n",
    "# Load the Preprocessed Validation data\n",
    "valid_features, valid_labels = pickle.load(open('preprocess_validation.p', mode='rb'))"
   ]
  },
  {
   "cell_type": "markdown",
   "metadata": {
    "deletable": true,
    "editable": true
   },
   "source": [
    "## Build the network\n",
    "For the neural network, you'll build each layer into a function.  Most of the code you've seen has been outside of functions. To test your code more thoroughly, we require that you put each layer in a function.  This allows us to give you better feedback and test for simple mistakes using our unittests before you submit your project.\n",
    "\n",
    ">**Note:** If you're finding it hard to dedicate enough time for this course each week, we've provided a small shortcut to this part of the project. In the next couple of problems, you'll have the option to use classes from the [TensorFlow Layers](https://www.tensorflow.org/api_docs/python/tf/layers) or [TensorFlow Layers (contrib)](https://www.tensorflow.org/api_guides/python/contrib.layers) packages to build each layer, except the layers you build in the \"Convolutional and Max Pooling Layer\" section.  TF Layers is similar to Keras's and TFLearn's abstraction to layers, so it's easy to pickup.\n",
    "\n",
    ">However, if you would like to get the most out of this course, try to solve all the problems _without_ using anything from the TF Layers packages. You **can** still use classes from other packages that happen to have the same name as ones you find in TF Layers! For example, instead of using the TF Layers version of the `conv2d` class, [tf.layers.conv2d](https://www.tensorflow.org/api_docs/python/tf/layers/conv2d), you would want to use the TF Neural Network version of `conv2d`, [tf.nn.conv2d](https://www.tensorflow.org/api_docs/python/tf/nn/conv2d). \n",
    "\n",
    "Let's begin!\n",
    "\n",
    "### Input\n",
    "The neural network needs to read the image data, one-hot encoded labels, and dropout keep probability. Implement the following functions\n",
    "* Implement `neural_net_image_input`\n",
    " * Return a [TF Placeholder](https://www.tensorflow.org/api_docs/python/tf/placeholder)\n",
    " * Set the shape using `image_shape` with batch size set to `None`.\n",
    " * Name the TensorFlow placeholder \"x\" using the TensorFlow `name` parameter in the [TF Placeholder](https://www.tensorflow.org/api_docs/python/tf/placeholder).\n",
    "* Implement `neural_net_label_input`\n",
    " * Return a [TF Placeholder](https://www.tensorflow.org/api_docs/python/tf/placeholder)\n",
    " * Set the shape using `n_classes` with batch size set to `None`.\n",
    " * Name the TensorFlow placeholder \"y\" using the TensorFlow `name` parameter in the [TF Placeholder](https://www.tensorflow.org/api_docs/python/tf/placeholder).\n",
    "* Implement `neural_net_keep_prob_input`\n",
    " * Return a [TF Placeholder](https://www.tensorflow.org/api_docs/python/tf/placeholder) for dropout keep probability.\n",
    " * Name the TensorFlow placeholder \"keep_prob\" using the TensorFlow `name` parameter in the [TF Placeholder](https://www.tensorflow.org/api_docs/python/tf/placeholder).\n",
    "\n",
    "These names will be used at the end of the project to load your saved model.\n",
    "\n",
    "Note: `None` for shapes in TensorFlow allow for a dynamic size."
   ]
  },
  {
   "cell_type": "code",
   "execution_count": 7,
   "metadata": {
    "collapsed": false,
    "deletable": true,
    "editable": true
   },
   "outputs": [
    {
     "name": "stdout",
     "output_type": "stream",
     "text": [
      "Image Input Tests Passed.\n",
      "Label Input Tests Passed.\n",
      "Keep Prob Tests Passed.\n"
     ]
    }
   ],
   "source": [
    "import tensorflow as tf\n",
    "\n",
    "def neural_net_image_input(image_shape):\n",
    "    \"\"\"\n",
    "    Return a Tensor for a batch of image input\n",
    "    : image_shape: Shape of the images\n",
    "    : return: Tensor for image input.\n",
    "    \"\"\"\n",
    "    return tf.placeholder(tf.float32, name='x', shape=([None] + list(image_shape)))\n",
    "\n",
    "\n",
    "def neural_net_label_input(n_classes):\n",
    "    \"\"\"\n",
    "    Return a Tensor for a batch of label input\n",
    "    : n_classes: Number of classes\n",
    "    : return: Tensor for label input.\n",
    "    \"\"\"\n",
    "    return tf.placeholder(tf.float32, name='y', shape=(None, n_classes))\n",
    "\n",
    "\n",
    "def neural_net_keep_prob_input():\n",
    "    \"\"\"\n",
    "    Return a Tensor for keep probability\n",
    "    : return: Tensor for keep probability.\n",
    "    \"\"\"\n",
    "    return tf.placeholder(tf.float32, name='keep_prob')\n",
    "\n",
    "\n",
    "\"\"\"\n",
    "DON'T MODIFY ANYTHING IN THIS CELL THAT IS BELOW THIS LINE\n",
    "\"\"\"\n",
    "tf.reset_default_graph()\n",
    "tests.test_nn_image_inputs(neural_net_image_input)\n",
    "tests.test_nn_label_inputs(neural_net_label_input)\n",
    "tests.test_nn_keep_prob_inputs(neural_net_keep_prob_input)"
   ]
  },
  {
   "cell_type": "markdown",
   "metadata": {
    "deletable": true,
    "editable": true
   },
   "source": [
    "### Convolution and Max Pooling Layer\n",
    "Convolution layers have a lot of success with images. For this code cell, you should implement the function `conv2d_maxpool` to apply convolution then max pooling:\n",
    "* Create the weight and bias using `conv_ksize`, `conv_num_outputs` and the shape of `x_tensor`.\n",
    "* Apply a convolution to `x_tensor` using weight and `conv_strides`.\n",
    " * We recommend you use same padding, but you're welcome to use any padding.\n",
    "* Add bias\n",
    "* Add a nonlinear activation to the convolution.\n",
    "* Apply Max Pooling using `pool_ksize` and `pool_strides`.\n",
    " * We recommend you use same padding, but you're welcome to use any padding.\n",
    "\n",
    "**Note:** You **can't** use [TensorFlow Layers](https://www.tensorflow.org/api_docs/python/tf/layers) or [TensorFlow Layers (contrib)](https://www.tensorflow.org/api_guides/python/contrib.layers) for **this** layer, but you can still use TensorFlow's [Neural Network](https://www.tensorflow.org/api_docs/python/tf/nn) package. You may still use the shortcut option for all the **other** layers."
   ]
  },
  {
   "cell_type": "code",
   "execution_count": 64,
   "metadata": {
    "collapsed": false,
    "deletable": true,
    "editable": true
   },
   "outputs": [
    {
     "name": "stdout",
     "output_type": "stream",
     "text": [
      "Tests Passed\n"
     ]
    }
   ],
   "source": [
    "def conv2d_maxpool(x_tensor, conv_num_outputs, conv_ksize, conv_strides, pool_ksize, pool_strides):\n",
    "    \"\"\"\n",
    "    Apply convolution then max pooling to x_tensor\n",
    "    :param x_tensor: TensorFlow Tensor\n",
    "    :param conv_num_outputs: Number of outputs for the convolutional layer\n",
    "    :param conv_ksize: kernal size 2-D Tuple for the convolutional layer\n",
    "    :param conv_strides: Stride 2-D Tuple for convolution\n",
    "    :param pool_ksize: kernal size 2-D Tuple for pool\n",
    "    :param pool_strides: Stride 2-D Tuple for pool\n",
    "    : return: A tensor that represents convolution and max pooling of x_tensor\n",
    "    \"\"\"\n",
    "    # Collect and rename variables needed for convolution layer\n",
    "    x_shape  = [d.value for d in x_tensor.shape]\n",
    "    img_w    = x_shape[1]\n",
    "    img_h    = x_shape[2]\n",
    "    img_d    = x_shape[3]\n",
    "    filter_w = conv_ksize[0]\n",
    "    filter_h = conv_ksize[1]\n",
    "    output_d = conv_num_outputs\n",
    "    weights_shape = [filter_w, filter_h, img_d, output_d]\n",
    "\n",
    "    # Buld convolution layer params\n",
    "    conv_inputs  = x_tensor\n",
    "    conv_padding = 'SAME'\n",
    "    conv_weights = tf.Variable(tf.truncated_normal(weights_shape, stddev=0.05))\n",
    "    conv_bias    = tf.Variable(tf.zeros(output_d))\n",
    "    conv_strides = [1, conv_strides[0], conv_strides[1], 1]\n",
    "\n",
    "    # Convolution Layer\n",
    "    conv_layer   = tf.nn.conv2d(conv_inputs, conv_weights, strides=conv_strides, padding=conv_padding)\n",
    "    conv_layer   = tf.nn.bias_add(conv_layer, conv_bias)\n",
    "    conv_layer   = tf.nn.relu(conv_layer)\n",
    "    \n",
    "    # Max Pooling Layer\n",
    "    pool_padding = 'SAME'\n",
    "    pool_ksize = [1, pool_ksize[0], pool_ksize[1], 1]\n",
    "    pool_strides = [1, pool_strides[0], pool_strides[1], 1]\n",
    "    pool_layer = tf.nn.max_pool(conv_layer, ksize=pool_ksize, strides=pool_strides, padding=pool_padding)\n",
    "    \n",
    "    return pool_layer \n",
    "\n",
    "\n",
    "\"\"\"\n",
    "DON'T MODIFY ANYTHING IN THIS CELL THAT IS BELOW THIS LINE\n",
    "\"\"\"\n",
    "tests.test_con_pool(conv2d_maxpool)"
   ]
  },
  {
   "cell_type": "markdown",
   "metadata": {
    "deletable": true,
    "editable": true
   },
   "source": [
    "### Flatten Layer\n",
    "Implement the `flatten` function to change the dimension of `x_tensor` from a 4-D tensor to a 2-D tensor.  The output should be the shape (*Batch Size*, *Flattened Image Size*). Shortcut option: you can use classes from the [TensorFlow Layers](https://www.tensorflow.org/api_docs/python/tf/layers) or [TensorFlow Layers (contrib)](https://www.tensorflow.org/api_guides/python/contrib.layers) packages for this layer. For more of a challenge, only use other TensorFlow packages."
   ]
  },
  {
   "cell_type": "code",
   "execution_count": 65,
   "metadata": {
    "collapsed": false,
    "deletable": true,
    "editable": true
   },
   "outputs": [
    {
     "name": "stdout",
     "output_type": "stream",
     "text": [
      "Tests Passed\n"
     ]
    }
   ],
   "source": [
    "from operator import mul\n",
    "from functools import reduce\n",
    "\n",
    "def flatten(x_tensor):\n",
    "    \"\"\"\n",
    "    Flatten x_tensor to (Batch Size, Flattened Image Size)\n",
    "    : x_tensor: A tensor of size (Batch Size, ...), where ... are the image dimensions.\n",
    "    : return: A tensor of size (Batch Size, Flattened Image Size).\n",
    "    \"\"\"\n",
    "    in_shape = [d.value for d in x_tensor.shape]\n",
    "\n",
    "    batch_size = (in_shape[0], -1)[in_shape[0] is None]    \n",
    "    flattened_size = reduce(mul, in_shape[1:])\n",
    "\n",
    "    return tf.reshape(x_tensor, [batch_size, flattened_size])\n",
    "\n",
    "\"\"\"\n",
    "DON'T MODIFY ANYTHING IN THIS CELL THAT IS BELOW THIS LINE\n",
    "\"\"\"\n",
    "tests.test_flatten(flatten)"
   ]
  },
  {
   "cell_type": "markdown",
   "metadata": {
    "deletable": true,
    "editable": true
   },
   "source": [
    "### Fully-Connected Layer\n",
    "Implement the `fully_conn` function to apply a fully connected layer to `x_tensor` with the shape (*Batch Size*, *num_outputs*). Shortcut option: you can use classes from the [TensorFlow Layers](https://www.tensorflow.org/api_docs/python/tf/layers) or [TensorFlow Layers (contrib)](https://www.tensorflow.org/api_guides/python/contrib.layers) packages for this layer. For more of a challenge, only use other TensorFlow packages."
   ]
  },
  {
   "cell_type": "code",
   "execution_count": 66,
   "metadata": {
    "collapsed": false,
    "deletable": true,
    "editable": true
   },
   "outputs": [
    {
     "name": "stdout",
     "output_type": "stream",
     "text": [
      "Tests Passed\n"
     ]
    }
   ],
   "source": [
    "def fully_conn(x_tensor, num_outputs):\n",
    "    \"\"\"\n",
    "    Apply a fully connected layer to x_tensor using weight and bias\n",
    "    : x_tensor: A 2-D tensor where the first dimension is batch size.\n",
    "    : num_outputs: The number of output that the new tensor should be.\n",
    "    : return: A 2-D tensor where the second dimension is num_outputs.\n",
    "    \"\"\"\n",
    "    in_shape = [d.value for d in x_tensor.shape]\n",
    "    num_inputs = in_shape[1]\n",
    "\n",
    "    weights = tf.Variable(tf.random_normal([num_inputs, num_outputs], stddev=0.05))\n",
    "    biases  = tf.Variable(tf.random_normal([num_outputs]))\n",
    "\n",
    "    fc_layer = tf.add(tf.matmul(x_tensor, weights), biases)\n",
    "    fc_layer = tf.nn.relu(fc_layer)\n",
    "    return fc_layer\n",
    "\n",
    "\n",
    "\"\"\"\n",
    "DON'T MODIFY ANYTHING IN THIS CELL THAT IS BELOW THIS LINE\n",
    "\"\"\"\n",
    "tests.test_fully_conn(fully_conn)"
   ]
  },
  {
   "cell_type": "markdown",
   "metadata": {
    "deletable": true,
    "editable": true
   },
   "source": [
    "### Output Layer\n",
    "Implement the `output` function to apply a fully connected layer to `x_tensor` with the shape (*Batch Size*, *num_outputs*). Shortcut option: you can use classes from the [TensorFlow Layers](https://www.tensorflow.org/api_docs/python/tf/layers) or [TensorFlow Layers (contrib)](https://www.tensorflow.org/api_guides/python/contrib.layers) packages for this layer. For more of a challenge, only use other TensorFlow packages.\n",
    "\n",
    "**Note:** Activation, softmax, or cross entropy should **not** be applied to this."
   ]
  },
  {
   "cell_type": "code",
   "execution_count": 67,
   "metadata": {
    "collapsed": false,
    "deletable": true,
    "editable": true
   },
   "outputs": [
    {
     "name": "stdout",
     "output_type": "stream",
     "text": [
      "Tests Passed\n"
     ]
    }
   ],
   "source": [
    "def output(x_tensor, num_outputs):\n",
    "    \"\"\"\n",
    "    Apply a output layer to x_tensor using weight and bias\n",
    "    : x_tensor: A 2-D tensor where the first dimension is batch size.\n",
    "    : num_outputs: The number of output that the new tensor should be.\n",
    "    : return: A 2-D tensor where the second dimension is num_outputs.\n",
    "    \"\"\"\n",
    "    in_shape = [d.value for d in x_tensor.shape]\n",
    "    num_inputs = in_shape[1]\n",
    "\n",
    "    weights = tf.Variable(tf.random_normal([num_inputs, num_outputs], stddev=0.05))\n",
    "    biases  = tf.Variable(tf.random_normal([num_outputs]))\n",
    "\n",
    "    fc_layer = tf.add(tf.matmul(x_tensor, weights), biases)\n",
    "    return fc_layer\n",
    "\n",
    "\"\"\"\n",
    "DON'T MODIFY ANYTHING IN THIS CELL THAT IS BELOW THIS LINE\n",
    "\"\"\"\n",
    "tests.test_output(output)"
   ]
  },
  {
   "cell_type": "markdown",
   "metadata": {
    "deletable": true,
    "editable": true
   },
   "source": [
    "### Create Convolutional Model\n",
    "Implement the function `conv_net` to create a convolutional neural network model. The function takes in a batch of images, `x`, and outputs logits.  Use the layers you created above to create this model:\n",
    "\n",
    "* Apply 1, 2, or 3 Convolution and Max Pool layers\n",
    "* Apply a Flatten Layer\n",
    "* Apply 1, 2, or 3 Fully Connected Layers\n",
    "* Apply an Output Layer\n",
    "* Return the output\n",
    "* Apply [TensorFlow's Dropout](https://www.tensorflow.org/api_docs/python/tf/nn/dropout) to one or more layers in the model using `keep_prob`. "
   ]
  },
  {
   "cell_type": "code",
   "execution_count": 124,
   "metadata": {
    "collapsed": false,
    "deletable": true,
    "editable": true
   },
   "outputs": [
    {
     "name": "stdout",
     "output_type": "stream",
     "text": [
      "(?, 32, 32, 3)\n",
      "(?, 16, 16, 32)\n",
      "(?, 16, 16, 64)\n",
      "(?, 8, 8, 128)\n",
      "(?, 8192)\n",
      "(?, 1024)\n",
      "(?, 256)\n",
      "(?, 64)\n",
      "(?, 10)\n",
      "(?, 32, 32, 3)\n",
      "(?, 16, 16, 32)\n",
      "(?, 16, 16, 64)\n",
      "(?, 8, 8, 128)\n",
      "(?, 8192)\n",
      "(?, 1024)\n",
      "(?, 256)\n",
      "(?, 64)\n",
      "(?, 10)\n",
      "Neural Network Built!\n"
     ]
    }
   ],
   "source": [
    "def conv_net(x, keep_prob):\n",
    "    \"\"\"\n",
    "    Create a convolutional neural network model\n",
    "    : x: Placeholder tensor that holds image data.\n",
    "    : keep_prob: Placeholder tensor that hold dropout keep probability.\n",
    "    : return: Tensor that represents logits\n",
    "    \"\"\"\n",
    "    print(x.shape)\n",
    "\n",
    "    x = conv2d_maxpool(x, 32, (5, 5), (2, 2), (1, 1), (1, 1))\n",
    "    print(x.shape)\n",
    "    x = conv2d_maxpool(x, 64, (1, 1), (1, 1), (2, 2), (1, 1))\n",
    "    print(x.shape)\n",
    "    x = conv2d_maxpool(x, 128, (3, 3), (2, 2), (1, 1), (1, 1))\n",
    "    print(x.shape)\n",
    "    x = flatten(x)\n",
    "    print(x.shape)\n",
    "\n",
    "    x = fully_conn(x, 1024)\n",
    "    print(x.shape)\n",
    "    x = tf.nn.dropout(x, keep_prob)\n",
    "\n",
    "    x = fully_conn(x, 256)\n",
    "    print(x.shape)\n",
    "    x = tf.nn.dropout(x, keep_prob)\n",
    "\n",
    "    x = fully_conn(x, 64)\n",
    "    print(x.shape)\n",
    "\n",
    "    x = output(x, 10)\n",
    "    print(x.shape)\n",
    "    return x\n",
    "\n",
    "\"\"\"\n",
    "DON'T MODIFY ANYTHING IN THIS CELL THAT IS BELOW THIS LINE\n",
    "\"\"\"\n",
    "\n",
    "##############################\n",
    "## Build the Neural Network ##\n",
    "##############################\n",
    "\n",
    "# Remove previous weights, bias, inputs, etc..\n",
    "tf.reset_default_graph()\n",
    "\n",
    "# Inputs\n",
    "x = neural_net_image_input((32, 32, 3))\n",
    "y = neural_net_label_input(10)\n",
    "keep_prob = neural_net_keep_prob_input()\n",
    "\n",
    "# Model\n",
    "logits = conv_net(x, keep_prob)\n",
    "\n",
    "# Name logits Tensor, so that is can be loaded from disk after training\n",
    "logits = tf.identity(logits, name='logits')\n",
    "\n",
    "# Loss and Optimizer\n",
    "cost = tf.reduce_mean(tf.nn.softmax_cross_entropy_with_logits(logits=logits, labels=y))\n",
    "optimizer = tf.train.AdamOptimizer().minimize(cost)\n",
    "\n",
    "# Accuracy\n",
    "correct_pred = tf.equal(tf.argmax(logits, 1), tf.argmax(y, 1))\n",
    "accuracy = tf.reduce_mean(tf.cast(correct_pred, tf.float32), name='accuracy')\n",
    "\n",
    "tests.test_conv_net(conv_net)"
   ]
  },
  {
   "cell_type": "markdown",
   "metadata": {
    "deletable": true,
    "editable": true
   },
   "source": [
    "## Train the Neural Network\n",
    "### Single Optimization\n",
    "Implement the function `train_neural_network` to do a single optimization.  The optimization should use `optimizer` to optimize in `session` with a `feed_dict` of the following:\n",
    "* `x` for image input\n",
    "* `y` for labels\n",
    "* `keep_prob` for keep probability for dropout\n",
    "\n",
    "This function will be called for each batch, so `tf.global_variables_initializer()` has already been called.\n",
    "\n",
    "Note: Nothing needs to be returned. This function is only optimizing the neural network."
   ]
  },
  {
   "cell_type": "code",
   "execution_count": 125,
   "metadata": {
    "collapsed": false,
    "deletable": true,
    "editable": true
   },
   "outputs": [
    {
     "name": "stdout",
     "output_type": "stream",
     "text": [
      "Tests Passed\n"
     ]
    }
   ],
   "source": [
    "def train_neural_network(session, optimizer, keep_probability, feature_batch, label_batch):\n",
    "    \"\"\"\n",
    "    Optimize the session on a batch of images and labels\n",
    "    : session: Current TensorFlow session\n",
    "    : optimizer: TensorFlow optimizer function\n",
    "    : keep_probability: keep probability\n",
    "    : feature_batch: Batch of Numpy image data\n",
    "    : label_batch: Batch of Numpy label data\n",
    "    \"\"\"\n",
    "    feed_dict = {\n",
    "        x: feature_batch,\n",
    "        y: label_batch,\n",
    "        keep_prob: keep_probability\n",
    "    }\n",
    "\n",
    "    session.run(optimizer, feed_dict)\n",
    "\n",
    "\n",
    "\"\"\"\n",
    "DON'T MODIFY ANYTHING IN THIS CELL THAT IS BELOW THIS LINE\n",
    "\"\"\"\n",
    "tests.test_train_nn(train_neural_network)"
   ]
  },
  {
   "cell_type": "markdown",
   "metadata": {
    "deletable": true,
    "editable": true
   },
   "source": [
    "### Show Stats\n",
    "Implement the function `print_stats` to print loss and validation accuracy.  Use the global variables `valid_features` and `valid_labels` to calculate validation accuracy.  Use a keep probability of `1.0` to calculate the loss and validation accuracy."
   ]
  },
  {
   "cell_type": "code",
   "execution_count": 126,
   "metadata": {
    "collapsed": false,
    "deletable": true,
    "editable": true
   },
   "outputs": [],
   "source": [
    "def print_stats(session, feature_batch, label_batch, cost, accuracy):\n",
    "    \"\"\"\n",
    "    Print information about loss and validation accuracy\n",
    "    : session: Current TensorFlow session\n",
    "    : feature_batch: Batch of Numpy image data\n",
    "    : label_batch: Batch of Numpy label data\n",
    "    : cost: TensorFlow cost function\n",
    "    : accuracy: TensorFlow accuracy function\n",
    "    \"\"\"\n",
    "    feed_dict = {\n",
    "        x: feature_batch,\n",
    "        y: label_batch,\n",
    "        keep_prob: 1.0\n",
    "    }\n",
    "    \n",
    "    acc = sess.run(accuracy, feed_dict)\n",
    "    cost = sess.run(cost, feed_dict)\n",
    "    print('Cost: {:2.3f},  Accuracy: {:2.3f}%'.format(cost, acc * 100))"
   ]
  },
  {
   "cell_type": "markdown",
   "metadata": {
    "deletable": true,
    "editable": true
   },
   "source": [
    "### Hyperparameters\n",
    "Tune the following parameters:\n",
    "* Set `epochs` to the number of iterations until the network stops learning or start overfitting\n",
    "* Set `batch_size` to the highest number that your machine has memory for.  Most people set them to common sizes of memory:\n",
    " * 64\n",
    " * 128\n",
    " * 256\n",
    " * ...\n",
    "* Set `keep_probability` to the probability of keeping a node using dropout"
   ]
  },
  {
   "cell_type": "code",
   "execution_count": 127,
   "metadata": {
    "collapsed": true,
    "deletable": true,
    "editable": true
   },
   "outputs": [],
   "source": [
    "# TODO: Tune Parameters\n",
    "epochs = 25\n",
    "batch_size = 1024\n",
    "keep_probability = 0.5"
   ]
  },
  {
   "cell_type": "markdown",
   "metadata": {
    "deletable": true,
    "editable": true
   },
   "source": [
    "### Train on a Single CIFAR-10 Batch\n",
    "Instead of training the neural network on all the CIFAR-10 batches of data, let's use a single batch. This should save time while you iterate on the model to get a better accuracy.  Once the final validation accuracy is 50% or greater, run the model on all the data in the next section."
   ]
  },
  {
   "cell_type": "code",
   "execution_count": 128,
   "metadata": {
    "collapsed": false,
    "deletable": true,
    "editable": true
   },
   "outputs": [
    {
     "name": "stdout",
     "output_type": "stream",
     "text": [
      "Checking the Training on a Single Batch...\n",
      "Epoch  1, CIFAR-10 Batch 1:  Cost: 2.285,  Accuracy: 11.510%\n",
      "Epoch  2, CIFAR-10 Batch 1:  Cost: 2.164,  Accuracy: 18.069%\n",
      "Epoch  3, CIFAR-10 Batch 1:  Cost: 2.069,  Accuracy: 20.421%\n",
      "Epoch  4, CIFAR-10 Batch 1:  Cost: 1.990,  Accuracy: 26.856%\n",
      "Epoch  5, CIFAR-10 Batch 1:  Cost: 1.907,  Accuracy: 29.827%\n",
      "Epoch  6, CIFAR-10 Batch 1:  Cost: 1.809,  Accuracy: 34.530%\n",
      "Epoch  7, CIFAR-10 Batch 1:  Cost: 1.832,  Accuracy: 32.054%\n",
      "Epoch  8, CIFAR-10 Batch 1:  Cost: 1.700,  Accuracy: 38.738%\n",
      "Epoch  9, CIFAR-10 Batch 1:  Cost: 1.636,  Accuracy: 41.708%\n",
      "Epoch 10, CIFAR-10 Batch 1:  Cost: 1.597,  Accuracy: 44.183%\n",
      "Epoch 11, CIFAR-10 Batch 1:  Cost: 1.536,  Accuracy: 45.050%\n",
      "Epoch 12, CIFAR-10 Batch 1:  Cost: 1.506,  Accuracy: 46.782%\n",
      "Epoch 13, CIFAR-10 Batch 1:  Cost: 1.462,  Accuracy: 47.030%\n",
      "Epoch 14, CIFAR-10 Batch 1:  Cost: 1.402,  Accuracy: 49.505%\n",
      "Epoch 15, CIFAR-10 Batch 1:  Cost: 1.351,  Accuracy: 51.114%\n",
      "Epoch 16, CIFAR-10 Batch 1:  Cost: 1.329,  Accuracy: 51.114%\n",
      "Epoch 17, CIFAR-10 Batch 1:  Cost: 1.313,  Accuracy: 51.609%\n",
      "Epoch 18, CIFAR-10 Batch 1:  Cost: 1.237,  Accuracy: 54.332%\n",
      "Epoch 19, CIFAR-10 Batch 1:  Cost: 1.201,  Accuracy: 56.807%\n",
      "Epoch 20, CIFAR-10 Batch 1:  Cost: 1.184,  Accuracy: 56.188%\n",
      "Epoch 21, CIFAR-10 Batch 1:  Cost: 1.160,  Accuracy: 56.683%\n",
      "Epoch 22, CIFAR-10 Batch 1:  Cost: 1.133,  Accuracy: 59.035%\n",
      "Epoch 23, CIFAR-10 Batch 1:  Cost: 1.060,  Accuracy: 60.767%\n",
      "Epoch 24, CIFAR-10 Batch 1:  Cost: 1.054,  Accuracy: 62.624%\n",
      "Epoch 25, CIFAR-10 Batch 1:  Cost: 1.019,  Accuracy: 62.624%\n"
     ]
    }
   ],
   "source": [
    "\"\"\"\n",
    "DON'T MODIFY ANYTHING IN THIS CELL\n",
    "\"\"\"\n",
    "print('Checking the Training on a Single Batch...')\n",
    "with tf.Session() as sess:\n",
    "    # Initializing the variables\n",
    "    sess.run(tf.global_variables_initializer())\n",
    "    \n",
    "    # Training cycle\n",
    "    for epoch in range(epochs):\n",
    "        batch_i = 1\n",
    "        for batch_features, batch_labels in helper.load_preprocess_training_batch(batch_i, batch_size):\n",
    "            train_neural_network(sess, optimizer, keep_probability, batch_features, batch_labels)\n",
    "        print('Epoch {:>2}, CIFAR-10 Batch {}:  '.format(epoch + 1, batch_i), end='')\n",
    "        print_stats(sess, batch_features, batch_labels, cost, accuracy)"
   ]
  },
  {
   "cell_type": "markdown",
   "metadata": {
    "deletable": true,
    "editable": true
   },
   "source": [
    "### Fully Train the Model\n",
    "Now that you got a good accuracy with a single CIFAR-10 batch, try it with all five batches."
   ]
  },
  {
   "cell_type": "code",
   "execution_count": 129,
   "metadata": {
    "collapsed": false,
    "deletable": true,
    "editable": true
   },
   "outputs": [
    {
     "name": "stdout",
     "output_type": "stream",
     "text": [
      "Training...\n",
      "Epoch  1, CIFAR-10 Batch 1:  Cost: 2.310,  Accuracy: 8.911%\n",
      "Epoch  1, CIFAR-10 Batch 2:  Cost: 2.280,  Accuracy: 15.099%\n",
      "Epoch  1, CIFAR-10 Batch 3:  Cost: 2.133,  Accuracy: 25.248%\n",
      "Epoch  1, CIFAR-10 Batch 4:  Cost: 1.958,  Accuracy: 28.094%\n",
      "Epoch  1, CIFAR-10 Batch 5:  Cost: 1.864,  Accuracy: 30.693%\n",
      "Epoch  2, CIFAR-10 Batch 1:  Cost: 1.800,  Accuracy: 35.520%\n",
      "Epoch  2, CIFAR-10 Batch 2:  Cost: 1.754,  Accuracy: 34.282%\n",
      "Epoch  2, CIFAR-10 Batch 3:  Cost: 1.660,  Accuracy: 41.584%\n",
      "Epoch  2, CIFAR-10 Batch 4:  Cost: 1.606,  Accuracy: 40.223%\n",
      "Epoch  2, CIFAR-10 Batch 5:  Cost: 1.625,  Accuracy: 40.347%\n",
      "Epoch  3, CIFAR-10 Batch 1:  Cost: 1.631,  Accuracy: 40.594%\n",
      "Epoch  3, CIFAR-10 Batch 2:  Cost: 1.589,  Accuracy: 40.965%\n",
      "Epoch  3, CIFAR-10 Batch 3:  Cost: 1.500,  Accuracy: 45.050%\n",
      "Epoch  3, CIFAR-10 Batch 4:  Cost: 1.477,  Accuracy: 45.668%\n",
      "Epoch  3, CIFAR-10 Batch 5:  Cost: 1.481,  Accuracy: 45.421%\n",
      "Epoch  4, CIFAR-10 Batch 1:  Cost: 1.460,  Accuracy: 47.896%\n",
      "Epoch  4, CIFAR-10 Batch 2:  Cost: 1.461,  Accuracy: 46.906%\n",
      "Epoch  4, CIFAR-10 Batch 3:  Cost: 1.396,  Accuracy: 48.391%\n",
      "Epoch  4, CIFAR-10 Batch 4:  Cost: 1.382,  Accuracy: 48.762%\n",
      "Epoch  4, CIFAR-10 Batch 5:  Cost: 1.382,  Accuracy: 49.010%\n",
      "Epoch  5, CIFAR-10 Batch 1:  Cost: 1.370,  Accuracy: 50.743%\n",
      "Epoch  5, CIFAR-10 Batch 2:  Cost: 1.337,  Accuracy: 50.248%\n",
      "Epoch  5, CIFAR-10 Batch 3:  Cost: 1.264,  Accuracy: 54.208%\n",
      "Epoch  5, CIFAR-10 Batch 4:  Cost: 1.287,  Accuracy: 54.084%\n",
      "Epoch  5, CIFAR-10 Batch 5:  Cost: 1.247,  Accuracy: 53.713%\n",
      "Epoch  6, CIFAR-10 Batch 1:  Cost: 1.263,  Accuracy: 55.322%\n",
      "Epoch  6, CIFAR-10 Batch 2:  Cost: 1.248,  Accuracy: 54.579%\n",
      "Epoch  6, CIFAR-10 Batch 3:  Cost: 1.213,  Accuracy: 55.941%\n",
      "Epoch  6, CIFAR-10 Batch 4:  Cost: 1.194,  Accuracy: 57.302%\n",
      "Epoch  6, CIFAR-10 Batch 5:  Cost: 1.165,  Accuracy: 57.550%\n",
      "Epoch  7, CIFAR-10 Batch 1:  Cost: 1.187,  Accuracy: 58.045%\n",
      "Epoch  7, CIFAR-10 Batch 2:  Cost: 1.167,  Accuracy: 57.054%\n",
      "Epoch  7, CIFAR-10 Batch 3:  Cost: 1.147,  Accuracy: 58.045%\n",
      "Epoch  7, CIFAR-10 Batch 4:  Cost: 1.117,  Accuracy: 60.025%\n",
      "Epoch  7, CIFAR-10 Batch 5:  Cost: 1.071,  Accuracy: 62.129%\n",
      "Epoch  8, CIFAR-10 Batch 1:  Cost: 1.095,  Accuracy: 61.757%\n",
      "Epoch  8, CIFAR-10 Batch 2:  Cost: 1.064,  Accuracy: 62.129%\n",
      "Epoch  8, CIFAR-10 Batch 3:  Cost: 1.020,  Accuracy: 63.861%\n",
      "Epoch  8, CIFAR-10 Batch 4:  Cost: 1.030,  Accuracy: 64.480%\n",
      "Epoch  8, CIFAR-10 Batch 5:  Cost: 0.983,  Accuracy: 65.099%\n",
      "Epoch  9, CIFAR-10 Batch 1:  Cost: 1.043,  Accuracy: 64.233%\n",
      "Epoch  9, CIFAR-10 Batch 2:  Cost: 0.993,  Accuracy: 64.480%\n",
      "Epoch  9, CIFAR-10 Batch 3:  Cost: 0.983,  Accuracy: 65.223%\n",
      "Epoch  9, CIFAR-10 Batch 4:  Cost: 0.957,  Accuracy: 66.584%\n",
      "Epoch  9, CIFAR-10 Batch 5:  Cost: 0.903,  Accuracy: 69.554%\n",
      "Epoch 10, CIFAR-10 Batch 1:  Cost: 0.947,  Accuracy: 67.450%\n",
      "Epoch 10, CIFAR-10 Batch 2:  Cost: 0.935,  Accuracy: 68.069%\n",
      "Epoch 10, CIFAR-10 Batch 3:  Cost: 0.937,  Accuracy: 67.079%\n",
      "Epoch 10, CIFAR-10 Batch 4:  Cost: 0.898,  Accuracy: 68.069%\n",
      "Epoch 10, CIFAR-10 Batch 5:  Cost: 0.849,  Accuracy: 70.050%\n",
      "Epoch 11, CIFAR-10 Batch 1:  Cost: 0.894,  Accuracy: 69.059%\n",
      "Epoch 11, CIFAR-10 Batch 2:  Cost: 0.871,  Accuracy: 71.411%\n",
      "Epoch 11, CIFAR-10 Batch 3:  Cost: 0.882,  Accuracy: 68.812%\n",
      "Epoch 11, CIFAR-10 Batch 4:  Cost: 0.851,  Accuracy: 70.421%\n",
      "Epoch 11, CIFAR-10 Batch 5:  Cost: 0.794,  Accuracy: 73.020%\n",
      "Epoch 12, CIFAR-10 Batch 1:  Cost: 0.831,  Accuracy: 72.649%\n",
      "Epoch 12, CIFAR-10 Batch 2:  Cost: 0.817,  Accuracy: 71.782%\n",
      "Epoch 12, CIFAR-10 Batch 3:  Cost: 0.808,  Accuracy: 72.030%\n",
      "Epoch 12, CIFAR-10 Batch 4:  Cost: 0.780,  Accuracy: 73.639%\n",
      "Epoch 12, CIFAR-10 Batch 5:  Cost: 0.718,  Accuracy: 77.475%\n",
      "Epoch 13, CIFAR-10 Batch 1:  Cost: 0.765,  Accuracy: 74.876%\n",
      "Epoch 13, CIFAR-10 Batch 2:  Cost: 0.751,  Accuracy: 75.743%\n",
      "Epoch 13, CIFAR-10 Batch 3:  Cost: 0.753,  Accuracy: 73.391%\n",
      "Epoch 13, CIFAR-10 Batch 4:  Cost: 0.724,  Accuracy: 75.495%\n",
      "Epoch 13, CIFAR-10 Batch 5:  Cost: 0.662,  Accuracy: 79.703%\n",
      "Epoch 14, CIFAR-10 Batch 1:  Cost: 0.710,  Accuracy: 76.856%\n",
      "Epoch 14, CIFAR-10 Batch 2:  Cost: 0.708,  Accuracy: 76.114%\n",
      "Epoch 14, CIFAR-10 Batch 3:  Cost: 0.706,  Accuracy: 75.743%\n",
      "Epoch 14, CIFAR-10 Batch 4:  Cost: 0.656,  Accuracy: 77.228%\n",
      "Epoch 14, CIFAR-10 Batch 5:  Cost: 0.624,  Accuracy: 79.827%\n",
      "Epoch 15, CIFAR-10 Batch 1:  Cost: 0.664,  Accuracy: 77.723%\n",
      "Epoch 15, CIFAR-10 Batch 2:  Cost: 0.661,  Accuracy: 78.218%\n",
      "Epoch 15, CIFAR-10 Batch 3:  Cost: 0.623,  Accuracy: 79.084%\n",
      "Epoch 15, CIFAR-10 Batch 4:  Cost: 0.618,  Accuracy: 79.827%\n",
      "Epoch 15, CIFAR-10 Batch 5:  Cost: 0.585,  Accuracy: 81.683%\n",
      "Epoch 16, CIFAR-10 Batch 1:  Cost: 0.591,  Accuracy: 80.693%\n",
      "Epoch 16, CIFAR-10 Batch 2:  Cost: 0.630,  Accuracy: 78.465%\n",
      "Epoch 16, CIFAR-10 Batch 3:  Cost: 0.588,  Accuracy: 79.208%\n",
      "Epoch 16, CIFAR-10 Batch 4:  Cost: 0.594,  Accuracy: 78.713%\n",
      "Epoch 16, CIFAR-10 Batch 5:  Cost: 0.547,  Accuracy: 82.673%\n",
      "Epoch 17, CIFAR-10 Batch 1:  Cost: 0.542,  Accuracy: 82.921%\n",
      "Epoch 17, CIFAR-10 Batch 2:  Cost: 0.583,  Accuracy: 80.446%\n",
      "Epoch 17, CIFAR-10 Batch 3:  Cost: 0.539,  Accuracy: 81.064%\n",
      "Epoch 17, CIFAR-10 Batch 4:  Cost: 0.593,  Accuracy: 79.703%\n",
      "Epoch 17, CIFAR-10 Batch 5:  Cost: 0.513,  Accuracy: 83.045%\n",
      "Epoch 18, CIFAR-10 Batch 1:  Cost: 0.492,  Accuracy: 84.035%\n",
      "Epoch 18, CIFAR-10 Batch 2:  Cost: 0.547,  Accuracy: 82.178%\n",
      "Epoch 18, CIFAR-10 Batch 3:  Cost: 0.475,  Accuracy: 82.921%\n",
      "Epoch 18, CIFAR-10 Batch 4:  Cost: 0.531,  Accuracy: 82.054%\n",
      "Epoch 18, CIFAR-10 Batch 5:  Cost: 0.454,  Accuracy: 85.025%\n",
      "Epoch 19, CIFAR-10 Batch 1:  Cost: 0.452,  Accuracy: 85.025%\n",
      "Epoch 19, CIFAR-10 Batch 2:  Cost: 0.522,  Accuracy: 83.168%\n",
      "Epoch 19, CIFAR-10 Batch 3:  Cost: 0.454,  Accuracy: 84.653%\n",
      "Epoch 19, CIFAR-10 Batch 4:  Cost: 0.464,  Accuracy: 83.663%\n",
      "Epoch 19, CIFAR-10 Batch 5:  Cost: 0.418,  Accuracy: 86.757%\n",
      "Epoch 20, CIFAR-10 Batch 1:  Cost: 0.427,  Accuracy: 86.262%\n",
      "Epoch 20, CIFAR-10 Batch 2:  Cost: 0.470,  Accuracy: 86.015%\n",
      "Epoch 20, CIFAR-10 Batch 3:  Cost: 0.413,  Accuracy: 85.891%\n",
      "Epoch 20, CIFAR-10 Batch 4:  Cost: 0.426,  Accuracy: 86.015%\n",
      "Epoch 20, CIFAR-10 Batch 5:  Cost: 0.372,  Accuracy: 87.748%\n",
      "Epoch 21, CIFAR-10 Batch 1:  Cost: 0.387,  Accuracy: 87.748%\n",
      "Epoch 21, CIFAR-10 Batch 2:  Cost: 0.431,  Accuracy: 86.386%\n",
      "Epoch 21, CIFAR-10 Batch 3:  Cost: 0.387,  Accuracy: 86.015%\n",
      "Epoch 21, CIFAR-10 Batch 4:  Cost: 0.379,  Accuracy: 88.738%\n",
      "Epoch 21, CIFAR-10 Batch 5:  Cost: 0.349,  Accuracy: 88.366%\n",
      "Epoch 22, CIFAR-10 Batch 1:  Cost: 0.352,  Accuracy: 88.861%\n",
      "Epoch 22, CIFAR-10 Batch 2:  Cost: 0.396,  Accuracy: 88.366%\n",
      "Epoch 22, CIFAR-10 Batch 3:  Cost: 0.337,  Accuracy: 88.243%\n",
      "Epoch 22, CIFAR-10 Batch 4:  Cost: 0.343,  Accuracy: 89.604%\n",
      "Epoch 22, CIFAR-10 Batch 5:  Cost: 0.337,  Accuracy: 88.861%\n",
      "Epoch 23, CIFAR-10 Batch 1:  Cost: 0.335,  Accuracy: 88.366%\n",
      "Epoch 23, CIFAR-10 Batch 2:  Cost: 0.367,  Accuracy: 88.738%\n",
      "Epoch 23, CIFAR-10 Batch 3:  Cost: 0.309,  Accuracy: 89.851%\n",
      "Epoch 23, CIFAR-10 Batch 4:  Cost: 0.295,  Accuracy: 90.965%\n",
      "Epoch 23, CIFAR-10 Batch 5:  Cost: 0.270,  Accuracy: 91.832%\n",
      "Epoch 24, CIFAR-10 Batch 1:  Cost: 0.310,  Accuracy: 89.356%\n",
      "Epoch 24, CIFAR-10 Batch 2:  Cost: 0.330,  Accuracy: 89.604%\n",
      "Epoch 24, CIFAR-10 Batch 3:  Cost: 0.275,  Accuracy: 91.337%\n",
      "Epoch 24, CIFAR-10 Batch 4:  Cost: 0.290,  Accuracy: 90.223%\n",
      "Epoch 24, CIFAR-10 Batch 5:  Cost: 0.252,  Accuracy: 92.822%\n",
      "Epoch 25, CIFAR-10 Batch 1:  Cost: 0.263,  Accuracy: 91.337%\n",
      "Epoch 25, CIFAR-10 Batch 2:  Cost: 0.314,  Accuracy: 89.975%\n",
      "Epoch 25, CIFAR-10 Batch 3:  Cost: 0.250,  Accuracy: 92.203%\n",
      "Epoch 25, CIFAR-10 Batch 4:  Cost: 0.261,  Accuracy: 92.698%\n",
      "Epoch 25, CIFAR-10 Batch 5:  Cost: 0.234,  Accuracy: 92.946%\n"
     ]
    }
   ],
   "source": [
    "\"\"\"\n",
    "DON'T MODIFY ANYTHING IN THIS CELL\n",
    "\"\"\"\n",
    "save_model_path = './image_classification'\n",
    "\n",
    "print('Training...')\n",
    "with tf.Session() as sess:\n",
    "    # Initializing the variables\n",
    "    sess.run(tf.global_variables_initializer())\n",
    "    \n",
    "    # Training cycle\n",
    "    for epoch in range(epochs):\n",
    "        # Loop over all batches\n",
    "        n_batches = 5\n",
    "        for batch_i in range(1, n_batches + 1):\n",
    "            for batch_features, batch_labels in helper.load_preprocess_training_batch(batch_i, batch_size):\n",
    "                train_neural_network(sess, optimizer, keep_probability, batch_features, batch_labels)\n",
    "            print('Epoch {:>2}, CIFAR-10 Batch {}:  '.format(epoch + 1, batch_i), end='')\n",
    "            print_stats(sess, batch_features, batch_labels, cost, accuracy)\n",
    "            \n",
    "    # Save Model\n",
    "    saver = tf.train.Saver()\n",
    "    save_path = saver.save(sess, save_model_path)"
   ]
  },
  {
   "cell_type": "markdown",
   "metadata": {
    "deletable": true,
    "editable": true
   },
   "source": [
    "# Checkpoint\n",
    "The model has been saved to disk.\n",
    "## Test Model\n",
    "Test your model against the test dataset.  This will be your final accuracy. You should have an accuracy greater than 50%. If you don't, keep tweaking the model architecture and parameters."
   ]
  },
  {
   "cell_type": "code",
   "execution_count": 130,
   "metadata": {
    "collapsed": false,
    "deletable": true,
    "editable": true
   },
   "outputs": [
    {
     "name": "stdout",
     "output_type": "stream",
     "text": [
      "Testing Accuracy: 0.7108677506446839\n",
      "\n"
     ]
    },
    {
     "data": {
      "image/png": "[encoded data removed]",
      "text/plain": [
       "<matplotlib.figure.Figure at 0x7f1bc1ec2ac8>"
      ]
     },
     "metadata": {
      "image/png": {
       "height": 319,
       "width": 355
      }
     },
     "output_type": "display_data"
    }
   ],
   "source": [
    "\"\"\"\n",
    "DON'T MODIFY ANYTHING IN THIS CELL\n",
    "\"\"\"\n",
    "%matplotlib inline\n",
    "%config InlineBackend.figure_format = 'retina'\n",
    "\n",
    "import tensorflow as tf\n",
    "import pickle\n",
    "import helper\n",
    "import random\n",
    "\n",
    "# Set batch size if not already set\n",
    "try:\n",
    "    if batch_size:\n",
    "        pass\n",
    "except NameError:\n",
    "    batch_size = 64\n",
    "\n",
    "save_model_path = './image_classification'\n",
    "n_samples = 4\n",
    "top_n_predictions = 3\n",
    "\n",
    "def test_model():\n",
    "    \"\"\"\n",
    "    Test the saved model against the test dataset\n",
    "    \"\"\"\n",
    "\n",
    "    test_features, test_labels = pickle.load(open('preprocess_training.p', mode='rb'))\n",
    "    loaded_graph = tf.Graph()\n",
    "\n",
    "    with tf.Session(graph=loaded_graph) as sess:\n",
    "        # Load model\n",
    "        loader = tf.train.import_meta_graph(save_model_path + '.meta')\n",
    "        loader.restore(sess, save_model_path)\n",
    "\n",
    "        # Get Tensors from loaded model\n",
    "        loaded_x = loaded_graph.get_tensor_by_name('x:0')\n",
    "        loaded_y = loaded_graph.get_tensor_by_name('y:0')\n",
    "        loaded_keep_prob = loaded_graph.get_tensor_by_name('keep_prob:0')\n",
    "        loaded_logits = loaded_graph.get_tensor_by_name('logits:0')\n",
    "        loaded_acc = loaded_graph.get_tensor_by_name('accuracy:0')\n",
    "        \n",
    "        # Get accuracy in batches for memory limitations\n",
    "        test_batch_acc_total = 0\n",
    "        test_batch_count = 0\n",
    "        \n",
    "        for train_feature_batch, train_label_batch in helper.batch_features_labels(test_features, test_labels, batch_size):\n",
    "            test_batch_acc_total += sess.run(\n",
    "                loaded_acc,\n",
    "                feed_dict={loaded_x: train_feature_batch, loaded_y: train_label_batch, loaded_keep_prob: 1.0})\n",
    "            test_batch_count += 1\n",
    "\n",
    "        print('Testing Accuracy: {}\\n'.format(test_batch_acc_total/test_batch_count))\n",
    "\n",
    "        # Print Random Samples\n",
    "        random_test_features, random_test_labels = tuple(zip(*random.sample(list(zip(test_features, test_labels)), n_samples)))\n",
    "        random_test_predictions = sess.run(\n",
    "            tf.nn.top_k(tf.nn.softmax(loaded_logits), top_n_predictions),\n",
    "            feed_dict={loaded_x: random_test_features, loaded_y: random_test_labels, loaded_keep_prob: 1.0})\n",
    "        helper.display_image_predictions(random_test_features, random_test_labels, random_test_predictions)\n",
    "\n",
    "\n",
    "test_model()"
   ]
  },
  {
   "cell_type": "markdown",
   "metadata": {
    "deletable": true,
    "editable": true
   },
   "source": [
    "## Why 50-80% Accuracy?\n",
    "You might be wondering why you can't get an accuracy any higher. First things first, 50% isn't bad for a simple CNN.  Pure guessing would get you 10% accuracy. However, you might notice people are getting scores [well above 80%](http://rodrigob.github.io/are_we_there_yet/build/classification_datasets_results.html#43494641522d3130).  That's because we haven't taught you all there is to know about neural networks. We still need to cover a few more techniques.\n",
    "## Submitting This Project\n",
    "When submitting this project, make sure to run all the cells before saving the notebook.  Save the notebook file as \"dlnd_image_classification.ipynb\" and save it as a HTML file under \"File\" -> \"Download as\".  Include the \"helper.py\" and \"problem_unittests.py\" files in your submission."
   ]
  },
  {
   "cell_type": "code",
   "execution_count": null,
   "metadata": {
    "collapsed": true
   },
   "outputs": [],
   "source": []
  }
 ],
 "metadata": {
  "kernelspec": {
   "display_name": "Python 3",
   "language": "python",
   "name": "python3"
  },
  "language_info": {
   "codemirror_mode": {
    "name": "ipython",
    "version": 3
   },
   "file_extension": ".py",
   "mimetype": "text/x-python",
   "name": "python",
   "nbconvert_exporter": "python",
   "pygments_lexer": "ipython3",
   "version": "3.5.2"
  },
  "widgets": {
   "state": {},
   "version": "1.1.2"
  }
 },
 "nbformat": 4,
 "nbformat_minor": 0
}
